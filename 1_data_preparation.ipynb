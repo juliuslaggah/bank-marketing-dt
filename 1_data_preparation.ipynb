{
 "cells": [
  {
   "cell_type": "markdown",
   "id": "98b28cb6",
   "metadata": {},
   "source": [
    "Step 1. Importing all libries "
   ]
  },
  {
   "cell_type": "code",
   "execution_count": 29,
   "id": "2acdd734",
   "metadata": {},
   "outputs": [],
   "source": [
    "# Data Handling & Visualization\n",
    "import pandas as pd\n",
    "import numpy as np\n",
    "import matplotlib.pyplot as plt\n",
    "import seaborn as sns\n",
    "\n",
    "# Settings\n",
    "pd.set_option('display.max_columns', None)\n",
    "sns.set(style=\"whitegrid\")\n"
   ]
  },
  {
   "cell_type": "markdown",
   "id": "0fc17399",
   "metadata": {},
   "source": [
    "2: Load Dataset"
   ]
  },
  {
   "cell_type": "code",
   "execution_count": 43,
   "id": "bb3df95c",
   "metadata": {},
   "outputs": [
    {
     "name": "stdout",
     "output_type": "stream",
     "text": [
      "➡️ dtypes after encoding: bool       37\n",
      "int64       6\n",
      "float64     5\n",
      "Name: count, dtype: int64\n",
      "➡️ Highly correlated pairs (|corr|>0.85):\n",
      "               f1                    f2      corr\n",
      "181         pdays      poutcome_success -0.950700\n",
      "223      previous  poutcome_nonexistent -0.878776\n",
      "227  emp.var.rate             euribor3m  0.972245\n",
      "228  emp.var.rate           nr.employed  0.906970\n",
      "348     euribor3m           nr.employed  0.945154\n",
      "➡️ Final DataFrame shape: (41188, 46)\n",
      "➡️ dtypes after dropping: bool       37\n",
      "int64       6\n",
      "float64     3\n",
      "Name: count, dtype: int64\n"
     ]
    }
   ],
   "source": [
    "# ─────────────────────────────────────────────────────────────────────────────\n",
    "# Cell X (new “All-in-One Encoding & Clean” cell)\n",
    "# ─────────────────────────────────────────────────────────────────────────────\n",
    "\n",
    "import pandas as pd\n",
    "import numpy as np\n",
    "\n",
    "# 1. Load original raw CSV\n",
    "df = pd.read_csv(\"data/bank-additional-full.csv\", sep=\";\")\n",
    "\n",
    "# 2. Replace any \"unknown\" with NaN\n",
    "df.replace(\"unknown\", np.nan, inplace=True)\n",
    "\n",
    "# 3. Impute all categorical missing values with mode\n",
    "for col in ['job', 'marital', 'education', 'default', 'housing', 'loan']:\n",
    "    df[col] = df[col].fillna(df[col].mode()[0])\n",
    "\n",
    "# 4. One-hot encode ALL categorical columns (including month, day_of_week, contact, poutcome)\n",
    "#    and drop the first level to avoid redundant columns. \n",
    "#    Leave 'y' untouched for now.\n",
    "cat_cols = ['job', 'marital', 'education', 'default', \n",
    "            'housing', 'loan', 'contact', 'month', 'day_of_week', 'poutcome']\n",
    "df_encoded = pd.get_dummies(df, columns=cat_cols, drop_first=True)\n",
    "\n",
    "# 5. Encode target column 'y' to 0/1\n",
    "df_encoded['y'] = df['y'].map({'no': 0, 'yes': 1})\n",
    "\n",
    "# 6. Confirm there are no object dtypes remaining:\n",
    "print(\"➡️ dtypes after encoding:\", df_encoded.dtypes.value_counts())\n",
    "\n",
    "# 7. (Same as before) Drop highly correlated features if necessary:\n",
    "#    Compute correlation matrix and drop 'emp.var.rate' and 'nr.employed'\n",
    "corr_matrix = df_encoded.corr(numeric_only=True)\n",
    "mask_upper = np.triu(np.ones(corr_matrix.shape), k=1).astype(bool)\n",
    "high_corr = (corr_matrix.where(mask_upper)\n",
    "             .stack()\n",
    "             .reset_index()\n",
    "             .rename(columns={'level_0': 'f1', 'level_1': 'f2', 0: 'corr'}))\n",
    "high_corr = high_corr.loc[high_corr['corr'].abs() > 0.85]\n",
    "\n",
    "print(\"➡️ Highly correlated pairs (|corr|>0.85):\")\n",
    "print(high_corr)\n",
    "\n",
    "# If the same three remain, drop 'emp.var.rate' and 'nr.employed'\n",
    "df_final = df_encoded.drop(columns=['emp.var.rate', 'nr.employed'], errors='ignore')\n",
    "\n",
    "print(\"➡️ Final DataFrame shape:\", df_final.shape)\n",
    "print(\"➡️ dtypes after dropping:\", df_final.dtypes.value_counts())\n"
   ]
  },
  {
   "cell_type": "markdown",
   "id": "a077822c",
   "metadata": {},
   "source": [
    "Train the model again"
   ]
  },
  {
   "cell_type": "code",
   "execution_count": 44,
   "id": "ab6520b9",
   "metadata": {},
   "outputs": [
    {
     "name": "stdout",
     "output_type": "stream",
     "text": [
      "➡️ X shape: (41188, 45) | y shape: (41188,)\n",
      "➡️ X_train: (32950, 45) | y_train: (32950,)\n",
      "➡️ X_test : (8238, 45) | y_test : (8238,)\n",
      "✅ Saved new pickle splits.\n"
     ]
    }
   ],
   "source": [
    "# ─────────────────────────────────────────────────────────────────────────────\n",
    "# Cell: Re-Split & Save Pickle Splits (Member 1)\n",
    "# ─────────────────────────────────────────────────────────────────────────────\n",
    "\n",
    "from sklearn.model_selection import train_test_split\n",
    "import pickle\n",
    "\n",
    "# Separate features and target\n",
    "X = df_final.drop(\"y\", axis=1)\n",
    "y = df_final[\"y\"]\n",
    "\n",
    "print(\"➡️ X shape:\", X.shape, \"| y shape:\", y.shape)\n",
    "\n",
    "# 80/20 stratified split\n",
    "X_train, X_test, y_train, y_test = train_test_split(\n",
    "    X, y, test_size=0.20, random_state=42, stratify=y\n",
    ")\n",
    "\n",
    "print(\"➡️ X_train:\", X_train.shape, \"| y_train:\", y_train.shape)\n",
    "print(\"➡️ X_test :\", X_test.shape,  \"| y_test :\", y_test.shape)\n",
    "\n",
    "# Save to disk as .pkl\n",
    "with open(\"X_train.pkl\", \"wb\") as f:\n",
    "    pickle.dump(X_train, f)\n",
    "with open(\"X_test.pkl\", \"wb\") as f:\n",
    "    pickle.dump(X_test, f)\n",
    "with open(\"y_train.pkl\", \"wb\") as f:\n",
    "    pickle.dump(y_train, f)\n",
    "with open(\"y_test.pkl\", \"wb\") as f:\n",
    "    pickle.dump(y_test, f)\n",
    "\n",
    "print(\"✅ Saved new pickle splits.\")\n"
   ]
  },
  {
   "cell_type": "markdown",
   "id": "21ad3c33",
   "metadata": {},
   "source": [
    "all cells below sebjected to correction later"
   ]
  },
  {
   "cell_type": "code",
   "execution_count": null,
   "id": "e71fad20",
   "metadata": {},
   "outputs": [],
   "source": [
    "# Load the dataset (update filename if different)\n",
    "df = pd.read_csv('data/bank-additional-full.csv', sep=';')\n",
    "\n",
    "# Preview\n",
    "df.head()\n"
   ]
  },
  {
   "cell_type": "markdown",
   "id": "ced799ab",
   "metadata": {},
   "source": [
    "3: Inspect Dataset Structure"
   ]
  },
  {
   "cell_type": "code",
   "execution_count": null,
   "id": "3c7fa44f",
   "metadata": {},
   "outputs": [],
   "source": [
    "# View dimensions\n",
    "print(\"Dataset shape:\", df.shape)\n",
    "\n",
    "# Check data types and non-null counts\n",
    "print(\"\\n--- DataFrame Info ---\")\n",
    "df.info()\n",
    "\n",
    "# Summary statistics (numerical + categorical)\n",
    "print(\"\\n--- Descriptive Statistics (including categorical) ---\")\n",
    "display(df.describe(include='all'))\n",
    "\n",
    "# Check missing values\n",
    "print(\"\\n--- Missing Values Count ---\")\n",
    "print(df.isnull().sum())\n",
    "\n",
    "# Preview unique values in some key categorical columns\n",
    "print(\"\\n--- Unique Values in 'job', 'education', 'poutcome' ---\")\n",
    "print(\"job:\", df['job'].unique())\n",
    "print(\"education:\", df['education'].unique())\n",
    "print(\"poutcome:\", df['poutcome'].unique())\n"
   ]
  },
  {
   "cell_type": "markdown",
   "id": "0d4d0c4f",
   "metadata": {},
   "source": [
    "4 – Replace \"unknown\" with NaN and summarize"
   ]
  },
  {
   "cell_type": "code",
   "execution_count": null,
   "id": "e57c22ff",
   "metadata": {},
   "outputs": [],
   "source": [
    "import numpy as np\n",
    "\n",
    "# Replace 'unknown' with np.nan\n",
    "df.replace(\"unknown\", np.nan, inplace=True)\n",
    "\n",
    "# Check missing values again\n",
    "print(\"Missing values after replacing 'unknown':\\n\")\n",
    "print(df.isnull().sum())\n",
    "\n",
    "# Optional: percentage of missing per column\n",
    "print(\"\\nPercentage of missing values per column:\\n\")\n",
    "print((df.isnull().sum() / len(df) * 100).round(2))\n"
   ]
  },
  {
   "cell_type": "markdown",
   "id": "730c05e3",
   "metadata": {},
   "source": [
    "5 – Impute Missing Values"
   ]
  },
  {
   "cell_type": "code",
   "execution_count": null,
   "id": "cadf2ab1",
   "metadata": {},
   "outputs": [],
   "source": [
    "# Fill categorical columns with mode (safe method)\n",
    "for col in ['education', 'job', 'marital', 'housing', 'loan']:\n",
    "    df[col] = df[col].fillna(df[col].mode()[0])\n",
    "\n",
    "# For 'default', fill with mode safely\n",
    "df['default'] = df['default'].fillna(df['default'].mode()[0])\n",
    "\n",
    "# Confirm no missing values\n",
    "print(\"✅ Missing values after imputation:\\n\")\n",
    "print(df.isnull().sum())\n"
   ]
  },
  {
   "cell_type": "markdown",
   "id": "4b5d9826",
   "metadata": {},
   "source": [
    "6 – Encode Categorical Variables"
   ]
  },
  {
   "cell_type": "code",
   "execution_count": null,
   "id": "82f279f4",
   "metadata": {},
   "outputs": [],
   "source": [
    "from sklearn.preprocessing import LabelEncoder\n",
    "\n",
    "# Make a copy of the DataFrame to preserve the original\n",
    "df_encoded = df.copy()\n",
    "\n",
    "# Binary columns: encode with LabelEncoder\n",
    "binary_cols = ['default', 'housing', 'loan', 'y']\n",
    "le = LabelEncoder()\n",
    "for col in binary_cols:\n",
    "    df_encoded[col] = le.fit_transform(df_encoded[col])\n",
    "\n",
    "# One-hot encode all other categorical columns\n",
    "df_encoded = pd.get_dummies(df_encoded, columns=[\n",
    "    'job', 'marital', 'education', 'contact', \n",
    "    'month', 'day_of_week', 'poutcome'\n",
    "], drop_first=True)\n",
    "\n",
    "# Show result\n",
    "print(\"✅ Categorical variables encoded.\")\n",
    "print(\"Encoded DataFrame shape:\", df_encoded.shape)\n"
   ]
  },
  {
   "cell_type": "markdown",
   "id": "8138d77e",
   "metadata": {},
   "source": [
    " 7 – Encode Target + Correlation Analysis + Feature Insight"
   ]
  },
  {
   "cell_type": "code",
   "execution_count": 40,
   "id": "35211b2d",
   "metadata": {},
   "outputs": [
    {
     "name": "stdout",
     "output_type": "stream",
     "text": [
      "✅ Target variable encoded.\n",
      "\n"
     ]
    },
    {
     "data": {
      "image/png": "[encoded data removed]",
      "text/plain": [
       "<Figure size 1800x1200 with 2 Axes>"
      ]
     },
     "metadata": {},
     "output_type": "display_data"
    },
    {
     "name": "stdout",
     "output_type": "stream",
     "text": [
      "\n",
      "✅ No highly correlated feature pairs above threshold (0.85).\n"
     ]
    }
   ],
   "source": [
    "# Encode target variable 'y' to binary (1 for 'yes', 0 for 'no')\n",
    "df_encoded = pd.get_dummies(df, drop_first=True)\n",
    "df_encoded['y'] = df['y'].map({'no': 0, 'yes': 1})\n",
    "\n",
    "print(\"✅ Target variable encoded.\\n\")\n",
    "\n",
    "# Optional: Correlation matrix (numeric columns only)\n",
    "import seaborn as sns\n",
    "import matplotlib.pyplot as plt\n",
    "\n",
    "# Compute correlation matrix\n",
    "corr_matrix = df.corr(numeric_only=True)\n",
    "\n",
    "# Plot heatmap\n",
    "plt.figure(figsize=(18, 12))\n",
    "sns.heatmap(corr_matrix, annot=False, cmap='coolwarm', linewidths=0.5)\n",
    "plt.title(\"Correlation Heatmap of Numeric Features\", fontsize=16)\n",
    "plt.show()\n",
    "\n",
    "# Optional: Identify highly correlated pairs\n",
    "threshold = 0.85\n",
    "high_corr_pairs = (\n",
    "    corr_matrix.where(np.triu(np.ones(corr_matrix.shape), k=1).astype(bool))\n",
    "    .stack()\n",
    "    .reset_index()\n",
    ")\n",
    "high_corr_pairs.columns = ['Feature 1', 'Feature 2', 'Correlation']\n",
    "high_corr_pairs = high_corr_pairs.loc[high_corr_pairs['Correlation'].abs() > threshold]\n",
    "\n",
    "# Print high correlation pairs (for potential feature reduction)\n",
    "if not high_corr_pairs.empty:\n",
    "    print(\"\\n⚠️ Highly correlated features (|corr| > 0.85):\")\n",
    "    print(high_corr_pairs.sort_values(by='Correlation', ascending=False))\n",
    "else:\n",
    "    print(\"\\n✅ No highly correlated feature pairs above threshold (0.85).\")\n"
   ]
  },
  {
   "cell_type": "markdown",
   "id": "068f1d61",
   "metadata": {},
   "source": [
    "DROPPING HIGHLY CORRELATED FEATURES "
   ]
  },
  {
   "cell_type": "markdown",
   "id": "993f04a2",
   "metadata": {},
   "source": [
    "8. TRAINING THE MODEL"
   ]
  }
 ],
 "metadata": {
  "kernelspec": {
   "display_name": "venv",
   "language": "python",
   "name": "python3"
  },
  "language_info": {
   "codemirror_mode": {
    "name": "ipython",
    "version": 3
   },
   "file_extension": ".py",
   "mimetype": "text/x-python",
   "name": "python",
   "nbconvert_exporter": "python",
   "pygments_lexer": "ipython3",
   "version": "3.11.9"
  }
 },
 "nbformat": 4,
 "nbformat_minor": 5
}
